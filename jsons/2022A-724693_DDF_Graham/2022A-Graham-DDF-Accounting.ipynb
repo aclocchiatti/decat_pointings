{
 "cells": [
  {
   "cell_type": "markdown",
   "metadata": {},
   "source": [
    "# Time Accounting for the DDF Program in 2022A Semester\n",
    "by Melissa Graham, 2022-03-30\n",
    "\n",
    "<br>\n",
    "<br>\n",
    "\n",
    "## 0. Imports and Definitions"
   ]
  },
  {
   "cell_type": "code",
   "execution_count": null,
   "metadata": {
    "collapsed": true
   },
   "outputs": [],
   "source": [
    "import glob,os\n",
    "import numpy as np\n",
    "import matplotlib.pyplot as plt\n",
    "from astropy.time import Time"
   ]
  },
  {
   "cell_type": "markdown",
   "metadata": {},
   "source": [
    "Define today's date and a line will be drawn on the plots below."
   ]
  },
  {
   "cell_type": "code",
   "execution_count": null,
   "metadata": {},
   "outputs": [],
   "source": [
    "today = '2022-03-30'\n",
    "today_mjd = Time(today+'T00:00:00.00', format='isot', scale='utc').mjd"
   ]
  },
  {
   "cell_type": "markdown",
   "metadata": {},
   "source": [
    "Define the number of hours per night. For 22A, it is 11.3 hours, as in Alfredo's email on Jan 30. (For 21B, it was 8.3 hours.)"
   ]
  },
  {
   "cell_type": "code",
   "execution_count": null,
   "metadata": {
    "collapsed": true
   },
   "outputs": [],
   "source": [
    "hours_per_night = 11.3"
   ]
  },
  {
   "cell_type": "markdown",
   "metadata": {},
   "source": [
    "Define the number of nights awarded to the DDF. (Also from Alfredo's email.)"
   ]
  },
  {
   "cell_type": "code",
   "execution_count": null,
   "metadata": {
    "collapsed": true
   },
   "outputs": [],
   "source": [
    "nights_awarded_DDF = 6.5"
   ]
  },
  {
   "cell_type": "markdown",
   "metadata": {},
   "source": [
    "## 1. Time Used by the DDF in 22A.\n",
    "\n",
    "Get the list of all the qcinv files to date."
   ]
  },
  {
   "cell_type": "code",
   "execution_count": null,
   "metadata": {},
   "outputs": [],
   "source": [
    "qcinv_fnms = glob.glob( '../../2022A/*/*.qcinv')"
   ]
  },
  {
   "cell_type": "markdown",
   "metadata": {},
   "source": [
    "Generate the list of dates and modified julian dates in the qcinv files."
   ]
  },
  {
   "cell_type": "code",
   "execution_count": null,
   "metadata": {},
   "outputs": [],
   "source": [
    "temp = []\n",
    "for qfnm in qcinv_fnms:\n",
    "    t1 = qfnm.split('/')[4]\n",
    "    t2 = t1.split('.')[0]\n",
    "    temp.append( t2[0:4]+'-'+t2[4:6]+'-'+t2[6:8] )\n",
    "    del t1,t2\n",
    "qcinv_dates = np.sort( np.asarray( temp, dtype='str' ) )\n",
    "del temp\n",
    "\n",
    "temp = []\n",
    "for qdate in qcinv_dates:\n",
    "    temp.append( Time(qdate+'T00:00:00.00', format='isot', scale='utc').mjd )\n",
    "qcinv_mjds = np.asarray( temp, dtype='float' )\n",
    "del temp\n",
    "\n",
    "for q in range(len(qcinv_dates)):\n",
    "    print(qcinv_dates[q],qcinv_mjds[q])"
   ]
  },
  {
   "cell_type": "markdown",
   "metadata": {},
   "source": [
    "Generate arrays of the observations from the qcinv files."
   ]
  },
  {
   "cell_type": "code",
   "execution_count": null,
   "metadata": {
    "collapsed": true
   },
   "outputs": [],
   "source": [
    "### Set true if you want debugging output\n",
    "verbose_level_1 = False\n",
    "verbose_level_2 = False\n",
    "\n",
    "temp1 = []\n",
    "temp2 = []\n",
    "temp3 = []\n",
    "temp4 = []\n",
    "\n",
    "for q,qfnm in enumerate(qcinv_fnms):\n",
    "    f = open(qfnm)\n",
    "    lines = f.readlines()\n",
    "    last_target = 'other'\n",
    "    start_time = '-:-'\n",
    "    end_time = '-:-'\n",
    "    for l,line in enumerate(lines):\n",
    "        if (line[0:1] != '#'):\n",
    "\n",
    "            ### Check if this line was a DDF observation\n",
    "            tx_EL = line.find('ELAIS')\n",
    "            tx_CO = line.find('COSMOS')\n",
    "            tx_DE = line.find('DECaPS-East')\n",
    "            tx_DW = line.find('DECaPS-West')\n",
    "            if verbose_level_2 == True:\n",
    "                print(last_target, tx_EL, tx_CO, tx_DE, tx_DW, start_time, end_time)\n",
    "\n",
    "            ### If this line is a change in field, we now know the end time of a sequence\n",
    "            if (line[0:1] != 'M') & (line[0:1] != 'p'):\n",
    "                useline = line\n",
    "            else:\n",
    "                useline = lines[l-1] # this will only cause the loss of ~1 minute from accounting\n",
    "            if (last_target == 'ELAIS') & (tx_EL < 0):\n",
    "                end_time = useline.split()[3]\n",
    "            if (last_target == 'COSMOS') & (tx_CO < 0):\n",
    "                end_time = useline.split()[3]\n",
    "            if (last_target == 'DECaPS-East') & (tx_DE < 0):\n",
    "                end_time = useline.split()[3]\n",
    "            if (last_target == 'DECaPS-West') & (tx_DW < 0):\n",
    "                end_time = useline.split()[3]\n",
    "            del useline\n",
    "\n",
    "            ### If a sequence has ended, append it to our list of observations\n",
    "            if end_time != '-:-':\n",
    "                temp1.append(qcinv_dates[q])\n",
    "                temp2.append(qcinv_mjds[q])\n",
    "                temp3.append(last_target)\n",
    "                start = float(start_time.split(':')[0]) + float(start_time.split(':')[1])/60.0\n",
    "                end   = float(end_time.split(':')[0]) + float(end_time.split(':')[1])/60.0\n",
    "                if start > 20.0:\n",
    "                    start = start - 24.0\n",
    "                if end > 20.0:\n",
    "                    end = end - 24.0\n",
    "                temp4.append( np.round( end - start, 3) )\n",
    "                if verbose_level_1 == True:\n",
    "                    print('seq end: ',qcinv_dates[q],qcinv_mjds[q],last_target,np.round( end - start, 3))\n",
    "                start_time = '-:-'\n",
    "                end_time = '-:-'\n",
    "                del start, end\n",
    "\n",
    "            ### If this sequence was the first on one of our fields, it's a new start time\n",
    "            if (tx_EL >= 0) & (last_target != 'ELAIS'):\n",
    "                start_time = line.split()[3]\n",
    "            if (tx_CO >= 0) & (last_target != 'COSMOS'):\n",
    "                start_time = line.split()[3]\n",
    "            if (tx_DE >= 0) & (last_target != 'DECaPS-East'):\n",
    "                start_time = line.split()[3]\n",
    "            if (tx_DW >= 0) & (last_target != 'DECaPS-West'):\n",
    "                start_time = line.split()[3]\n",
    "\n",
    "            if tx_EL >= 0:\n",
    "                last_target = 'ELAIS'\n",
    "            if tx_CO >= 0:\n",
    "                last_target = 'COSMOS'\n",
    "            if tx_DE >= 0:\n",
    "                last_target = 'DECaPS-East'\n",
    "            if tx_DW >= 0:\n",
    "                last_target = 'DECaPS-West'\n",
    "            if (tx_EL < 0) & (tx_CO < 0) & (tx_DE < 0) & (tx_DW < 0):\n",
    "                last_target = 'other'\n",
    "\n",
    "            del tx_EL, tx_CO, tx_DE, tx_DW\n",
    "    \n",
    "    f.close()\n",
    "    del f, lines, last_target, start_time, end_time\n",
    "\n",
    "obs_date  = np.asarray( temp1, dtype='str' )\n",
    "obs_mjd   = np.asarray( temp2, dtype='float' )\n",
    "obs_fname = np.asarray( temp3, dtype='str' )\n",
    "obs_dtime = np.asarray( temp4, dtype='float' )\n",
    "\n",
    "del temp1,temp2,temp3,temp4\n",
    "del verbose_level_1, verbose_level_2"
   ]
  },
  {
   "cell_type": "markdown",
   "metadata": {},
   "source": [
    "Quick check for how many DDF observations were retrieved."
   ]
  },
  {
   "cell_type": "code",
   "execution_count": null,
   "metadata": {},
   "outputs": [],
   "source": [
    "print(len(obs_date))\n",
    "print(obs_date)"
   ]
  },
  {
   "cell_type": "markdown",
   "metadata": {},
   "source": [
    "Generate a cumulative time based on the observations listed in the qcinv files."
   ]
  },
  {
   "cell_type": "code",
   "execution_count": null,
   "metadata": {
    "collapsed": true
   },
   "outputs": [],
   "source": [
    "temp = []\n",
    "for o,dtime in enumerate(obs_dtime):\n",
    "    if o == 0:\n",
    "        temp.append( dtime )\n",
    "    else:\n",
    "        temp.append( temp[o-1] + dtime )\n",
    "obs_ctime = np.asarray( temp, dtype='float' )\n",
    "del temp"
   ]
  },
  {
   "cell_type": "markdown",
   "metadata": {},
   "source": [
    "Print all sequences and their cumulative time in hours."
   ]
  },
  {
   "cell_type": "code",
   "execution_count": null,
   "metadata": {
    "collapsed": true
   },
   "outputs": [],
   "source": [
    "# for o,date in enumerate(obs_date):\n",
    "#     print('%10s  %7.1f  %11s  %5.2f  %5.2f' % \\\n",
    "#           (obs_date[o], obs_mjd[o], obs_fname[o], obs_dtime[o], obs_ctime[o]) )"
   ]
  },
  {
   "cell_type": "markdown",
   "metadata": {},
   "source": [
    "Plot the cumulative time used by the DDF as a function of MJD over 2022A."
   ]
  },
  {
   "cell_type": "code",
   "execution_count": null,
   "metadata": {},
   "outputs": [],
   "source": [
    "fig = plt.figure(figsize=(14,14))\n",
    "plt.rcParams.update({'font.size':18})\n",
    "\n",
    "### horizontal dotted line at the DDF time awarded\n",
    "plt.axhline( nights_awarded_DDF*hours_per_night, ls='dotted', lw=3, alpha=1, color='black', \\\n",
    "            label='award: '+str(np.round(nights_awarded_DDF,1))+' nights' )\n",
    "\n",
    "### verticle dashed line at \"today\"\n",
    "plt.axvline( today_mjd, ls='dashed', lw=3, alpha=1, color='darkgrey')\n",
    "plt.text( today_mjd+1, 57, today, color='darkgrey')\n",
    "\n",
    "for o in range(len(obs_mjd)):\n",
    "    if obs_fname[o] == 'ELAIS':\n",
    "        point_color = 'darkviolet'\n",
    "    if obs_fname[o] == 'COSMOS':\n",
    "        point_color = 'dodgerblue'\n",
    "    if obs_fname[o] == 'DECaPS-East':\n",
    "        point_color = 'darkorange'\n",
    "    if obs_fname[o] == 'DECaPS-West':\n",
    "        point_color = 'limegreen'\n",
    "    plt.plot( obs_mjd[o], obs_ctime[o], 'o', ms=3, alpha=1, color=point_color )\n",
    "\n",
    "plt.plot( -99,-99, 'o', ms=6, alpha=0.6, color='darkviolet', label='ELAIS' )\n",
    "plt.plot( -99,-99, 'o', ms=6, alpha=0.6, color='dodgerblue', label='COSMOS' )\n",
    "plt.plot( -99,-99, 'o', ms=6, alpha=0.6, color='darkorange', label='DECaPS-East' )\n",
    "plt.plot( -99,-99, 'o', ms=6, alpha=0.6, color='limegreen', label='DECaPS-West' )\n",
    "    \n",
    "plt.xlim([59660,59800])\n",
    "plt.ylim([0,80])\n",
    "plt.xlabel(r'${\\rm MJD,\\ 2022A}$',fontsize=18)\n",
    "plt.ylabel(r'${\\rm Cumulative\\ Time\\ Spent\\ [hours]}$',fontsize=18)\n",
    "plt.title(r'${\\rm Completed\\ Observations\\ for\\ the\\ DECam\\ DDF}$')\n",
    "plt.legend(loc='best',handletextpad=0.2,labelspacing=0.2,fontsize=18,numpoints=1,ncol=1)\n",
    "plt.show()"
   ]
  },
  {
   "cell_type": "markdown",
   "metadata": {},
   "source": [
    "## 2. Projected Time Used by the DDF in 22A.\n",
    "\n",
    "Based on the fixed scheduler file.\n",
    "\n",
    "Read in data from DDF_fixed_scheduler_file.txt, convert dates to MJD."
   ]
  },
  {
   "cell_type": "code",
   "execution_count": null,
   "metadata": {
    "collapsed": true
   },
   "outputs": [],
   "source": [
    "fsf_date  = np.loadtxt( 'DDF_fixed_scheduler_file.txt', dtype='str', usecols={0} )\n",
    "fsf_seqid = np.loadtxt( 'DDF_fixed_scheduler_file.txt', dtype='str', usecols={1} )\n",
    "fsf_dtime = np.loadtxt( 'DDF_fixed_scheduler_file.txt', dtype='float', usecols={4} )"
   ]
  },
  {
   "cell_type": "markdown",
   "metadata": {},
   "source": [
    "Create array that is just the fixed schedule file field names (fsf_fname)."
   ]
  },
  {
   "cell_type": "code",
   "execution_count": null,
   "metadata": {
    "collapsed": true
   },
   "outputs": [],
   "source": [
    "temp = []\n",
    "for fid in fsf_seqid:\n",
    "    temp.append( fid.split('-')[0] )\n",
    "fsf_fname = np.asarray( temp, dtype='str' )\n",
    "del temp"
   ]
  },
  {
   "cell_type": "markdown",
   "metadata": {},
   "source": [
    "Convert the calendar dates in the fixed schedule file to modified julian dates (fsf_mjd)."
   ]
  },
  {
   "cell_type": "code",
   "execution_count": null,
   "metadata": {},
   "outputs": [],
   "source": [
    "temp = []\n",
    "for fdate in fsf_date:\n",
    "    temp.append( Time(fdate+'T00:00:00.00', format='isot', scale='utc').mjd )\n",
    "fsf_mjd = np.asarray( temp, dtype='float' )\n",
    "del temp"
   ]
  },
  {
   "cell_type": "code",
   "execution_count": null,
   "metadata": {},
   "outputs": [],
   "source": [
    "print( 'Total planned time is %5.2f hours' % np.sum(fsf_dtime) )\n",
    "print( 'Assuming %3.1f hours a night, that is %4.2f nights.' % \\\n",
    "      (hours_per_night,(np.sum(fsf_dtime)/hours_per_night)) )\n",
    "print( 'And the DDF was awarded '+str(np.round(nights_awarded_DDF,1))+' nights.')"
   ]
  },
  {
   "cell_type": "markdown",
   "metadata": {},
   "source": [
    "Generate array of cumulative time spent, if the plan is followed (fsf_dtimeC)."
   ]
  },
  {
   "cell_type": "code",
   "execution_count": null,
   "metadata": {
    "collapsed": true
   },
   "outputs": [],
   "source": [
    "temp = []\n",
    "for f,fdt in enumerate(fsf_dtime):\n",
    "    if f == 0:\n",
    "        temp.append( fsf_dtime[f] )\n",
    "    else:\n",
    "        temp.append( temp[f-1]+fsf_dtime[f] )\n",
    "fsf_dtimeC = np.asarray( temp, dtype='float' )\n",
    "del temp"
   ]
  },
  {
   "cell_type": "markdown",
   "metadata": {},
   "source": [
    "Generate array of \"IDEAL\" cumulative time spent which is the total time divided equally between epochs.\n",
    "\n",
    "Generate array of unique dates (i.e., epochs)."
   ]
  },
  {
   "cell_type": "code",
   "execution_count": null,
   "metadata": {},
   "outputs": [],
   "source": [
    "udates = np.unique( fsf_date )\n",
    "temp = []\n",
    "for udate in udates:\n",
    "    temp.append( Time(udate+'T00:00:00.00', format='isot', scale='utc').mjd )\n",
    "udates_mjd = np.asarray( temp, dtype='float' )\n",
    "del temp"
   ]
  },
  {
   "cell_type": "markdown",
   "metadata": {},
   "source": [
    "Calculate the \"IDEAL\" number of hours per night, using hours_per_night hours per night and the assigned nights_awarded_DDF nights."
   ]
  },
  {
   "cell_type": "code",
   "execution_count": null,
   "metadata": {
    "collapsed": true
   },
   "outputs": [],
   "source": [
    "awarded_hours = nights_awarded_DDF * hours_per_night\n",
    "number_of_epochs = float( len(udates) )\n",
    "ideal_hours_per_epoch = awarded_hours / number_of_epochs\n",
    "str_ihpe = str( np.round(ideal_hours_per_epoch,1) )"
   ]
  },
  {
   "cell_type": "markdown",
   "metadata": {},
   "source": [
    "Generate the array of \"IDEAL\" cumulative time spent (udates_ideal_ctime)."
   ]
  },
  {
   "cell_type": "code",
   "execution_count": null,
   "metadata": {},
   "outputs": [],
   "source": [
    "temp = []\n",
    "for u,udate in enumerate(udates):\n",
    "    if u == 0:\n",
    "        temp.append( ideal_hours_per_epoch )\n",
    "    else:\n",
    "        temp.append( temp[u-1] + ideal_hours_per_epoch )\n",
    "udates_ideal_ctime = np.asarray( temp, dtype='float' )\n",
    "del temp\n",
    "\n",
    "print('Number of epochs = ',len(udates))"
   ]
  },
  {
   "cell_type": "code",
   "execution_count": null,
   "metadata": {},
   "outputs": [],
   "source": [
    "### Plot the cumulative time as a function of MJD over 2021B\n",
    "\n",
    "fig = plt.figure(figsize=(14,14))\n",
    "plt.rcParams.update({'font.size':18})\n",
    "\n",
    "### horizontal dotted line at the DDF time awarded\n",
    "plt.axhline( nights_awarded_DDF*hours_per_night, ls='dotted', lw=3, alpha=1, color='black', \\\n",
    "            label='award: '+str(np.round(nights_awarded_DDF,1))+' nights' )\n",
    "\n",
    "### verticle dashed line at \"today\"\n",
    "plt.axvline( today_mjd, ls='dashed', lw=3, alpha=1, color='darkgrey')\n",
    "plt.text( today_mjd+1, 57, today, color='darkgrey')\n",
    "\n",
    "### plot the cumulative time if we divided the DDF time evenly over all nights\n",
    "plt.plot( udates_mjd, udates_ideal_ctime, ls='solid', lw=2, alpha=0.4, color='grey', \\\n",
    "         label='\"ideal\": '+str_ihpe+' h/night')\n",
    "\n",
    "### plot the actual cumulative time spent so far\n",
    "plt.plot( obs_mjd, obs_ctime, lw=1, alpha=1, color='black', label='actual time spent')\n",
    "\n",
    "for f in range(len(fsf_mjd)):\n",
    "    if fsf_fname[f] == 'ELAIS':\n",
    "        point_color = 'darkviolet'\n",
    "    if fsf_fname[f] == 'COSMOS':\n",
    "        point_color = 'dodgerblue'\n",
    "    if fsf_fname[f] == 'DECaPSEast':\n",
    "        point_color = 'darkorange'\n",
    "    if fsf_fname[f] == 'DECaPSWest':\n",
    "        point_color = 'darkgreen'\n",
    "    plt.plot( fsf_mjd[f], fsf_dtimeC[f], 'o', ms=5, fillstyle='none', color=point_color )\n",
    "\n",
    "plt.plot( -99,-99, 'o', ms=6, alpha=0.6, color='darkviolet', label='ELAIS' )\n",
    "plt.plot( -99,-99, 'o', ms=6, alpha=0.6, color='dodgerblue', label='COSMOS' )\n",
    "plt.plot( -99,-99, 'o', ms=6, alpha=0.6, color='darkorange', label='DECaPSEast' )\n",
    "plt.plot( -99,-99, 'o', ms=6, alpha=0.6, color='darkgreen', label='DECaPSWest' )\n",
    "    \n",
    "plt.xlim([59660,59800])\n",
    "plt.ylim([0,80])\n",
    "plt.xlabel(r'${\\rm MJD,\\ 2022A}$',fontsize=18)\n",
    "plt.ylabel(r'${\\rm Cumulative\\ Time\\ Spent\\ [hours]}$',fontsize=18)\n",
    "plt.title(r'${\\rm Planned\\ Observations\\ for\\ DECam\\ DDF}$')\n",
    "plt.legend(loc='best',handletextpad=0.2,labelspacing=0.2,fontsize=18,numpoints=1,ncol=1)\n",
    "plt.show()"
   ]
  },
  {
   "cell_type": "code",
   "execution_count": null,
   "metadata": {
    "collapsed": true
   },
   "outputs": [],
   "source": []
  }
 ],
 "metadata": {
  "kernelspec": {
   "display_name": "Python 3",
   "language": "python",
   "name": "python3"
  },
  "language_info": {
   "codemirror_mode": {
    "name": "ipython",
    "version": 3
   },
   "file_extension": ".py",
   "mimetype": "text/x-python",
   "name": "python",
   "nbconvert_exporter": "python",
   "pygments_lexer": "ipython3",
   "version": "3.5.5"
  }
 },
 "nbformat": 4,
 "nbformat_minor": 2
}
