{
 "cells": [
  {
   "cell_type": "markdown",
   "metadata": {},
   "source": [
    "## Time Accounting for the DDF Program\n",
    "by Melissa Graham, 2021-11-08\n",
    "\n",
    "#### 0. An accounting of the time spent so far (using the qcinv files)\n",
    "The DDF has overspent a bit because ELAIS was used as a filler program early on and three extra sequences of DECaPS-East were done when they weren't requested. But overall, as of 2021-11-08, we're about on-course.\n",
    "\n",
    "#### 1. Current version of DDF_fixed_scheduler_file.txt (created 2021-11-08)\n",
    "The CURRENT version of DDF_fixed_scheduler_file.txt was created on 2021-11-08.\n",
    "The difference from the OLD version is that the first four epochs on the COSMOS field were removed, in order to avoid an oversubscription problem caused by assuming 10 hour nights.\n",
    "\n",
    "#### 2. OLD version of DDF_fixed_scheduler_file.txt (created at the start of 2021B)\n",
    "The file OLD_DDF_fixed_scheduler_file.txt was created at the start of 2021B. It assumed 10 hours/night when the truth is 8.3 hours/night, and thus was oversubscribed."
   ]
  },
  {
   "cell_type": "code",
   "execution_count": null,
   "metadata": {
    "collapsed": true
   },
   "outputs": [],
   "source": [
    "import glob,os\n",
    "import numpy as np\n",
    "import matplotlib.pyplot as plt\n",
    "from astropy.time import Time"
   ]
  },
  {
   "cell_type": "code",
   "execution_count": null,
   "metadata": {
    "collapsed": true
   },
   "outputs": [],
   "source": [
    "### To put a line for today on the plots below, define today's date.\n",
    "# today = '2021-11-08'\n",
    "today = '2021-11-11'\n",
    "today_mjd = Time(today+'T00:00:00.00', format='isot', scale='utc').mjd"
   ]
  },
  {
   "cell_type": "markdown",
   "metadata": {},
   "source": [
    "### 0. Show how much observing time the DDF has spent, to date"
   ]
  },
  {
   "cell_type": "code",
   "execution_count": null,
   "metadata": {
    "collapsed": true
   },
   "outputs": [],
   "source": [
    "### Get the list of all the qcinv files to date\n",
    "qcinv_fnms = glob.glob( '../../2021B/*/*.qcinv')\n",
    "\n",
    "### Generate the list of dates and mjds\n",
    "temp = []\n",
    "for qfnm in qcinv_fnms:\n",
    "    t1 = qfnm.split('/')[4]\n",
    "    t2 = t1.split('.')[0]\n",
    "    temp.append( t2[0:4]+'-'+t2[4:6]+'-'+t2[6:8] )\n",
    "    del t1,t2\n",
    "qcinv_dates = np.asarray( temp, dtype='str' )\n",
    "del temp\n",
    "\n",
    "temp = []\n",
    "for qdate in qcinv_dates:\n",
    "    temp.append( Time(qdate+'T00:00:00.00', format='isot', scale='utc').mjd )\n",
    "qcinv_mjds = np.asarray( temp, dtype='float' )\n",
    "del temp"
   ]
  },
  {
   "cell_type": "code",
   "execution_count": null,
   "metadata": {
    "collapsed": true
   },
   "outputs": [],
   "source": [
    "### Generate arrays of the observations\n",
    "\n",
    "### Set true if you want debugging output\n",
    "verbose_level_1 = False\n",
    "verbose_level_2 = False\n",
    "\n",
    "temp1 = []\n",
    "temp2 = []\n",
    "temp3 = []\n",
    "temp4 = []\n",
    "\n",
    "for q,qfnm in enumerate(qcinv_fnms):\n",
    "    f = open(qfnm)\n",
    "    lines = f.readlines()\n",
    "    last_target = 'other'\n",
    "    start_time = '-:-'\n",
    "    end_time = '-:-'\n",
    "    for l,line in enumerate(lines):\n",
    "        if (line[0:1] != '#'):\n",
    "\n",
    "            ### Check if this line was a DDF observation\n",
    "            tx_EL = line.find('ELAIS')\n",
    "            tx_CO = line.find('COSMOS')\n",
    "            tx_DE = line.find('DECaPS-East')\n",
    "            tx_DW = line.find('DECaPS-West')\n",
    "            if verbose_level_2 == True:\n",
    "                print(last_target, tx_EL, tx_CO, tx_DE, tx_DW, start_time, end_time)\n",
    "\n",
    "            ### If this line is a change in field, we now know the end time of a sequence\n",
    "            if (line[0:1] != 'M') & (line[0:1] != 'p'):\n",
    "                useline = line\n",
    "            else:\n",
    "                useline = lines[l-1] # this will only cause the loss of ~1 minute from accounting\n",
    "            if (last_target == 'ELAIS') & (tx_EL < 0):\n",
    "                end_time = useline.split()[3]\n",
    "            if (last_target == 'COSMOS') & (tx_CO < 0):\n",
    "                end_time = useline.split()[3]\n",
    "            if (last_target == 'DECaPS-East') & (tx_DE < 0):\n",
    "                end_time = useline.split()[3]\n",
    "            if (last_target == 'DECaPS-West') & (tx_DW < 0):\n",
    "                end_time = useline.split()[3]\n",
    "            del useline\n",
    "\n",
    "            ### If a sequence has ended, append it to our list of observations\n",
    "            if end_time != '-:-':\n",
    "                temp1.append(qcinv_dates[q])\n",
    "                temp2.append(qcinv_mjds[q])\n",
    "                temp3.append(last_target)\n",
    "                start = float(start_time.split(':')[0]) + float(start_time.split(':')[1])/60.0\n",
    "                end   = float(end_time.split(':')[0]) + float(end_time.split(':')[1])/60.0\n",
    "                if start > 20.0:\n",
    "                    start = start - 24.0\n",
    "                if end > 20.0:\n",
    "                    end = end - 24.0\n",
    "                temp4.append( np.round( end - start, 3) )\n",
    "                if verbose_level_1 == True:\n",
    "                    print('seq end: ',qcinv_dates[q],qcinv_mjds[q],last_target,np.round( end - start, 3))\n",
    "                start_time = '-:-'\n",
    "                end_time = '-:-'\n",
    "                del start, end\n",
    "\n",
    "            ### If this sequence was the first on one of our fields, it's a new start time\n",
    "            if (tx_EL >= 0) & (last_target != 'ELAIS'):\n",
    "                start_time = line.split()[3]\n",
    "            if (tx_CO >= 0) & (last_target != 'COSMOS'):\n",
    "                start_time = line.split()[3]\n",
    "            if (tx_DE >= 0) & (last_target != 'DECaPS-East'):\n",
    "                start_time = line.split()[3]\n",
    "            if (tx_DW >= 0) & (last_target != 'DECaPS-West'):\n",
    "                start_time = line.split()[3]\n",
    "\n",
    "            if tx_EL >= 0:\n",
    "                last_target = 'ELAIS'\n",
    "            if tx_CO >= 0:\n",
    "                last_target = 'COSMOS'\n",
    "            if tx_DE >= 0:\n",
    "                last_target = 'DECaPS-East'\n",
    "            if tx_DW >= 0:\n",
    "                last_target = 'DECaPS-West'\n",
    "            if (tx_EL < 0) & (tx_CO < 0) & (tx_DE < 0) & (tx_DW < 0):\n",
    "                last_target = 'other'\n",
    "\n",
    "            del tx_EL, tx_CO, tx_DE, tx_DW\n",
    "    \n",
    "    f.close()\n",
    "    del f, lines, last_target, start_time, end_time\n",
    "\n",
    "obs_date  = np.asarray( temp1, dtype='str' )\n",
    "obs_mjd   = np.asarray( temp2, dtype='float' )\n",
    "obs_fname = np.asarray( temp3, dtype='str' )\n",
    "obs_dtime = np.asarray( temp4, dtype='float' )\n",
    "\n",
    "del temp1,temp2,temp3,temp4\n",
    "del verbose_level_1, verbose_level_2"
   ]
  },
  {
   "cell_type": "code",
   "execution_count": null,
   "metadata": {
    "collapsed": true
   },
   "outputs": [],
   "source": [
    "### Generate a cumulative time\n",
    "temp = []\n",
    "for o,dtime in enumerate(obs_dtime):\n",
    "    if o == 0:\n",
    "        temp.append( dtime )\n",
    "    else:\n",
    "        temp.append( temp[o-1] + dtime )\n",
    "obs_ctime = np.asarray( temp, dtype='float' )\n",
    "del temp"
   ]
  },
  {
   "cell_type": "code",
   "execution_count": null,
   "metadata": {},
   "outputs": [],
   "source": [
    "### Print all sequences and their cumulative time in hours\n",
    "for o,date in enumerate(obs_date):\n",
    "    print('%10s  %7.1f  %11s  %5.2f  %5.2f' % (obs_date[o], obs_mjd[o], obs_fname[o], obs_dtime[o], obs_ctime[o]) )"
   ]
  },
  {
   "cell_type": "code",
   "execution_count": null,
   "metadata": {},
   "outputs": [],
   "source": [
    "### Plot the cumulative time as a function of MJD over 2021B\n",
    "\n",
    "fig = plt.figure(figsize=(14,14))\n",
    "plt.rcParams.update({'font.size':18})\n",
    "\n",
    "### horizontal line at the DDF time awarded\n",
    "plt.axhline( 7.5*8.3, ls='dotted', lw=3, alpha=0.4, color='grey', label='award: 7.5 nights' )\n",
    "\n",
    "### verticle line at \"today\"\n",
    "plt.axvline( today_mjd, ls='dashed', lw=3, alpha=0.4, color='grey')\n",
    "plt.text( today_mjd, 60, today, color='grey')\n",
    "\n",
    "for o in range(len(obs_mjd)):\n",
    "    if obs_fname[o] == 'ELAIS':\n",
    "        point_color = 'dodgerblue'\n",
    "    if obs_fname[o] == 'COSMOS':\n",
    "        point_color = 'darkviolet'\n",
    "    if obs_fname[o] == 'DECaPS-East':\n",
    "        point_color = 'darkorange'\n",
    "    if obs_fname[o] == 'DECaPS-West':\n",
    "        point_color = 'limegreen'\n",
    "    plt.plot( obs_mjd[o], obs_ctime[o], 'o', ms=3, alpha=1, color=point_color )\n",
    "\n",
    "plt.plot( -99,-99, 'o', ms=6, alpha=0.6, color='dodgerblue', label='ELAIS' )\n",
    "# plt.plot( -99,-99, 'o', ms=6, alpha=0.6, color='darkviolet', label='COSMOS' )\n",
    "plt.plot( -99,-99, 'o', ms=6, alpha=0.6, color='darkorange', label='DECaPS-East' )\n",
    "plt.plot( -99,-99, 'o', ms=6, alpha=0.6, color='limegreen', label='DECaPS-West' )\n",
    "    \n",
    "plt.xlim([59470,59610])\n",
    "plt.ylim([0,65])\n",
    "plt.xlabel(r'${\\rm MJD,\\ 2021B}$',fontsize=18)\n",
    "plt.ylabel(r'${\\rm Cumulative\\ Time\\ Spent\\ [hours]}$',fontsize=18)\n",
    "plt.title(r'${\\rm Completed\\ Observations\\ for\\ the\\ DECam\\ DDF}$')\n",
    "plt.legend(loc='best',handletextpad=0.2,labelspacing=0.2,fontsize=18,numpoints=1,ncol=1)\n",
    "plt.show()"
   ]
  },
  {
   "cell_type": "markdown",
   "metadata": {},
   "source": [
    "#### The plot above...\n",
    "... shows that using ELAIS (blue) as a filler program in those early full nights burned through our time, and DECaPS-East (orange) was done on three extra epochs when it wasn't in the observing plan (it was only supposed to be done on the first three full nights of the semester)."
   ]
  },
  {
   "cell_type": "markdown",
   "metadata": {},
   "source": [
    "### 1. Show the plan for 2021B based on the current DDF fixed schedule file\n",
    "\"Current\" version of DDF_fixed_scheduler_file.txt was made on 2021-11-08."
   ]
  },
  {
   "cell_type": "code",
   "execution_count": null,
   "metadata": {},
   "outputs": [],
   "source": [
    "### Read in data from DDF_fixed_scheduler_file.txt\n",
    "fsf_date  = np.loadtxt( 'DDF_fixed_scheduler_file.txt', dtype='str', usecols={0} )\n",
    "fsf_seqid = np.loadtxt( 'DDF_fixed_scheduler_file.txt', dtype='str', usecols={1} )\n",
    "fsf_dtime = np.loadtxt( 'DDF_fixed_scheduler_file.txt', dtype='float', usecols={4} )\n",
    "\n",
    "### Grab just the field name from each of the sequence ids\n",
    "temp = []\n",
    "for fid in fsf_seqid:\n",
    "    temp.append( fid.split('-')[0] )\n",
    "fsf_fname = np.asarray( temp, dtype='str' )\n",
    "del temp\n",
    "\n",
    "### Convert the dates to MJD\n",
    "temp = []\n",
    "for fdate in fsf_date:\n",
    "    temp.append( Time(fdate+'T00:00:00.00', format='isot', scale='utc').mjd )\n",
    "fsf_mjd = np.asarray( temp, dtype='float' )\n",
    "del temp"
   ]
  },
  {
   "cell_type": "code",
   "execution_count": null,
   "metadata": {},
   "outputs": [],
   "source": [
    "print( 'Total planned time is %5.2f hours' % np.sum(fsf_dtime) )\n",
    "print( 'Assuming 8.3 hours a night, that is %4.2f nights.' % (np.sum(fsf_dtime)/8.3) )\n",
    "print( 'And the DDF was awarded 7.5 nights.')"
   ]
  },
  {
   "cell_type": "code",
   "execution_count": null,
   "metadata": {
    "collapsed": true
   },
   "outputs": [],
   "source": [
    "### Generate array of cumulative time spent, if the plan is followed\n",
    "temp = []\n",
    "for f,fdt in enumerate(fsf_dtime):\n",
    "    if f == 0:\n",
    "        temp.append( fsf_dtime[f] )\n",
    "    else:\n",
    "        temp.append( temp[f-1]+fsf_dtime[f] )\n",
    "fsf_dtimeC = np.asarray( temp, dtype='float' )\n",
    "del temp"
   ]
  },
  {
   "cell_type": "code",
   "execution_count": null,
   "metadata": {},
   "outputs": [],
   "source": [
    "### Generate array of IDEAL cumulative time spent\n",
    "###  which is the total time divided equally between epochs\n",
    "\n",
    "### Generate array of unique dates (i.e., epochs)\n",
    "udates = np.unique( fsf_date )\n",
    "temp = []\n",
    "for udate in udates:\n",
    "    temp.append( Time(udate+'T00:00:00.00', format='isot', scale='utc').mjd )\n",
    "udates_mjd = np.asarray( temp, dtype='float' )\n",
    "del temp\n",
    "\n",
    "### Calculate the ideal number of hours per night,\n",
    "###  using 8.3 hours per night and the assigned 7.5 nights.\n",
    "awarded_hours = 7.5 * 8.3\n",
    "number_of_epochs = float( len(udates) )\n",
    "ideal_hours_per_epoch = awarded_hours / number_of_epochs\n",
    "str_ihpe = str( np.round(ideal_hours_per_epoch,1) )\n",
    "\n",
    "### Generate the array of cumulative time spent, in the ideal case\n",
    "temp = []\n",
    "for u,udate in enumerate(udates):\n",
    "    if u == 0:\n",
    "        temp.append( ideal_hours_per_epoch )\n",
    "    else:\n",
    "        temp.append( temp[u-1] + ideal_hours_per_epoch )\n",
    "udates_ideal_ctime = np.asarray( temp, dtype='float' )\n",
    "del temp\n",
    "\n",
    "print('Number of epochs = ',len(udates))"
   ]
  },
  {
   "cell_type": "code",
   "execution_count": null,
   "metadata": {},
   "outputs": [],
   "source": [
    "### Plot the cumulative time as a function of MJD over 2021B\n",
    "\n",
    "fig = plt.figure(figsize=(14,14))\n",
    "plt.rcParams.update({'font.size':18})\n",
    "\n",
    "### horizontal line at the DDF time awarded\n",
    "plt.axhline( 7.5*8.3, ls='dotted', lw=3, alpha=0.4, color='grey', label='award: 7.5 nights' )\n",
    "\n",
    "### verticle line at \"today\"\n",
    "plt.axvline( today_mjd, ls='dashed', lw=3, alpha=0.4, color='grey')\n",
    "plt.text( today_mjd, 60, today, color='grey')\n",
    "\n",
    "### plot the cumulative time if we divided the DDF time evenly over all nights\n",
    "plt.plot( udates_mjd, udates_ideal_ctime, ls='solid', lw=3, alpha=0.4, color='grey', \\\n",
    "         label='\"ideal\": '+str_ihpe+' h/night')\n",
    "\n",
    "### plot the actual cumulative time spent so far\n",
    "plt.plot( obs_mjd, obs_ctime, lw=1, alpha=1, color='black', label='actual time spent')\n",
    "# plt.plot( obs_mjd, obs_ctime, 'o', ms=2, alpha=1, color='black', label='actual time spent')\n",
    "\n",
    "for f in range(len(fsf_mjd)):\n",
    "    if fsf_fname[f] == 'ELAIS':\n",
    "        point_color = 'dodgerblue'\n",
    "    if fsf_fname[f] == 'COSMOS':\n",
    "        point_color = 'darkviolet'\n",
    "    if fsf_fname[f] == 'DECaPSEast':\n",
    "        point_color = 'darkorange'\n",
    "    if fsf_fname[f] == 'DECaPSWest':\n",
    "        point_color = 'limegreen'\n",
    "    plt.plot( fsf_mjd[f], fsf_dtimeC[f], 'o', ms=3, alpha=1, color=point_color )\n",
    "\n",
    "plt.plot( -99,-99, 'o', ms=6, alpha=0.6, color='dodgerblue', label='ELAIS' )\n",
    "plt.plot( -99,-99, 'o', ms=6, alpha=0.6, color='darkviolet', label='COSMOS' )\n",
    "plt.plot( -99,-99, 'o', ms=6, alpha=0.6, color='darkorange', label='DECaPSEast' )\n",
    "plt.plot( -99,-99, 'o', ms=6, alpha=0.6, color='limegreen', label='DECaPSWest' )\n",
    "    \n",
    "plt.xlim([59470,59610])\n",
    "plt.ylim([0,65])\n",
    "plt.xlabel(r'${\\rm MJD,\\ 2021B}$',fontsize=18)\n",
    "plt.ylabel(r'${\\rm Cumulative\\ Time\\ Spent\\ [hours]}$',fontsize=18)\n",
    "plt.title(r'${\\rm Planned\\ and\\ Completed\\ Observations\\ for\\ DECam\\ DDF}$')\n",
    "plt.legend(loc='best',handletextpad=0.2,labelspacing=0.2,fontsize=18,numpoints=1,ncol=1)\n",
    "plt.show()"
   ]
  },
  {
   "cell_type": "code",
   "execution_count": null,
   "metadata": {
    "collapsed": true
   },
   "outputs": [],
   "source": [
    "### Clean up\n",
    "del fsf_date, fsf_seqid, fsf_dtime, fsf_fname, fsf_mjd, fsf_dtimeC\n",
    "del udates, udates_mjd, udates_ideal_ctime\n",
    "del awarded_hours, number_of_epochs, ideal_hours_per_epoch, str_ihpe\n",
    "\n",
    "del obs_date, obs_mjd, obs_fname, obs_dtime, obs_ctime"
   ]
  },
  {
   "cell_type": "markdown",
   "metadata": {},
   "source": [
    "### 2. Show how the OLD DDF fixed scheduler file would have over-spent for 2021B.\n",
    "\"OLD\" version of DDF_fixed_scheduler_file.txt was made at the start of 2021B."
   ]
  },
  {
   "cell_type": "code",
   "execution_count": null,
   "metadata": {},
   "outputs": [],
   "source": [
    "### Read in data from DDF_fixed_scheduler_file.txt\n",
    "fsf_date  = np.loadtxt( 'OLD_DDF_fixed_scheduler_file.txt', dtype='str', usecols={0} )\n",
    "fsf_seqid = np.loadtxt( 'OLD_DDF_fixed_scheduler_file.txt', dtype='str', usecols={1} )\n",
    "fsf_dtime = np.loadtxt( 'OLD_DDF_fixed_scheduler_file.txt', dtype='float', usecols={4} )\n",
    "\n",
    "### Grab just the field name from each of the sequence ids\n",
    "temp = []\n",
    "for fid in fsf_seqid:\n",
    "    temp.append( fid.split('-')[0] )\n",
    "fsf_fname = np.asarray( temp, dtype='str' )\n",
    "del temp\n",
    "\n",
    "### Convert the dates to MJD\n",
    "temp = []\n",
    "for fdate in fsf_date:\n",
    "    temp.append( Time(fdate+'T00:00:00.00', format='isot', scale='utc').mjd )\n",
    "fsf_mjd = np.asarray( temp, dtype='float' )\n",
    "del temp"
   ]
  },
  {
   "cell_type": "code",
   "execution_count": null,
   "metadata": {},
   "outputs": [],
   "source": [
    "print( 'Total planned time is %5.2f hours' % np.sum(fsf_dtime) )\n",
    "print( 'Assuming 10 hours a night, that is %4.2f nights.' % (np.sum(fsf_dtime)/10) )\n",
    "print( 'But Alfredo said it is 8.3 hours a night, so %4.2f nights.' % (np.sum(fsf_dtime)/8.3) )\n",
    "print( 'Thus the DDF is over-planned by %4.2f nights, or %4.2f hours.' % \\\n",
    "      ((np.sum(fsf_dtime)/8.3 - 7.5),8.3*(np.sum(fsf_dtime)/8.3 - 7.5)) )"
   ]
  },
  {
   "cell_type": "code",
   "execution_count": null,
   "metadata": {
    "collapsed": true
   },
   "outputs": [],
   "source": [
    "### Generate array of cumulative time spent, if the plan is followed\n",
    "temp = []\n",
    "for f,fdt in enumerate(fsf_dtime):\n",
    "    if f == 0:\n",
    "        temp.append( fsf_dtime[f] )\n",
    "    else:\n",
    "        temp.append( temp[f-1]+fsf_dtime[f] )\n",
    "fsf_dtimeC = np.asarray( temp, dtype='float' )\n",
    "del temp"
   ]
  },
  {
   "cell_type": "code",
   "execution_count": null,
   "metadata": {},
   "outputs": [],
   "source": [
    "### Generate array of IDEAL cumulative time spent\n",
    "###  which is the total time divided equally between epochs\n",
    "\n",
    "### Generate array of unique dates (i.e., epochs)\n",
    "udates = np.unique( fsf_date )\n",
    "temp = []\n",
    "for udate in udates:\n",
    "    temp.append( Time(udate+'T00:00:00.00', format='isot', scale='utc').mjd )\n",
    "udates_mjd = np.asarray( temp, dtype='float' )\n",
    "del temp\n",
    "\n",
    "### Calculate the ideal number of hours per night,\n",
    "###  using 8.3 hours per night and the assigned 7.5 nights.\n",
    "awarded_hours = 7.5 * 8.3\n",
    "number_of_epochs = float( len(udates) )\n",
    "ideal_hours_per_epoch = awarded_hours / number_of_epochs\n",
    "str_ihpe = str( np.round(ideal_hours_per_epoch,1) )\n",
    "\n",
    "### Generate the array of cumulative time spent, in the ideal case\n",
    "temp = []\n",
    "for u,udate in enumerate(udates):\n",
    "    if u == 0:\n",
    "        temp.append( ideal_hours_per_epoch )\n",
    "    else:\n",
    "        temp.append( temp[u-1] + ideal_hours_per_epoch )\n",
    "udates_ideal_ctime = np.asarray( temp, dtype='float' )\n",
    "del temp"
   ]
  },
  {
   "cell_type": "code",
   "execution_count": null,
   "metadata": {},
   "outputs": [],
   "source": [
    "### Plot the cumulative time as a function of MJD over 2021B\n",
    "\n",
    "fig = plt.figure(figsize=(14,14))\n",
    "plt.rcParams.update({'font.size':18})\n",
    "\n",
    "### horizontal line at the DDF time awarded\n",
    "plt.axhline( 7.5*8.3, ls='dotted', lw=3, alpha=0.4, color='grey', label='award: 7.5 nights' )\n",
    "\n",
    "### verticle line at \"today\"\n",
    "plt.axvline( today_mjd, ls='dashed', lw=3, alpha=0.4, color='grey')\n",
    "plt.text( today_mjd, 60, today, color='grey')\n",
    "\n",
    "### plot the cumulative time if we divided the DDF time evenly over all nights\n",
    "plt.plot( udates_mjd, udates_ideal_ctime, ls='solid', lw=3, alpha=0.4, color='grey', \\\n",
    "         label='\"ideal\": '+str_ihpe+' h/night')\n",
    "\n",
    "for f in range(len(fsf_mjd)):\n",
    "    if fsf_fname[f] == 'ELAIS':\n",
    "        point_color = 'dodgerblue'\n",
    "    if fsf_fname[f] == 'COSMOS':\n",
    "        point_color = 'darkviolet'\n",
    "    if fsf_fname[f] == 'DECaPSEast':\n",
    "        point_color = 'darkorange'\n",
    "    if fsf_fname[f] == 'DECaPSWest':\n",
    "        point_color = 'limegreen'\n",
    "    plt.plot( fsf_mjd[f], fsf_dtimeC[f], 'o', ms=3, alpha=1, color=point_color )\n",
    "\n",
    "plt.plot( -99,-99, 'o', ms=6, alpha=0.6, color='dodgerblue', label='ELAIS' )\n",
    "plt.plot( -99,-99, 'o', ms=6, alpha=0.6, color='darkviolet', label='COSMOS' )\n",
    "plt.plot( -99,-99, 'o', ms=6, alpha=0.6, color='darkorange', label='DECaPSEast' )\n",
    "plt.plot( -99,-99, 'o', ms=6, alpha=0.6, color='limegreen', label='DECaPSWest' )\n",
    "    \n",
    "plt.xlim([59470,59610])\n",
    "plt.ylim([0,70])\n",
    "plt.xlabel(r'${\\rm MJD,\\ 2021B}$',fontsize=18)\n",
    "plt.ylabel(r'${\\rm Cumulative\\ Time\\ Spent\\ [hours]}$',fontsize=18)\n",
    "plt.title(r'${\\rm OLD\\ VERSION\\ of\\ DDF\\ Observing\\ Plan\\ was\\ Oversubscribed}$')\n",
    "plt.legend(loc='best',handletextpad=0.2,labelspacing=0.2,fontsize=18,numpoints=1,ncol=1)\n",
    "plt.show()"
   ]
  },
  {
   "cell_type": "markdown",
   "metadata": {},
   "source": [
    "The plot above shows that the COSMOS field was driving the DDF over the time awarded."
   ]
  },
  {
   "cell_type": "code",
   "execution_count": null,
   "metadata": {
    "collapsed": true
   },
   "outputs": [],
   "source": [
    "### Clean up\n",
    "del fsf_date, fsf_seqid, fsf_dtime, fsf_fname, fsf_mjd, fsf_dtimeC\n",
    "del udates, udates_mjd, udates_ideal_ctime\n",
    "del awarded_hours, number_of_epochs, ideal_hours_per_epoch, str_ihpe"
   ]
  }
 ],
 "metadata": {
  "kernelspec": {
   "display_name": "Python 3",
   "language": "python",
   "name": "python3"
  },
  "language_info": {
   "codemirror_mode": {
    "name": "ipython",
    "version": 3
   },
   "file_extension": ".py",
   "mimetype": "text/x-python",
   "name": "python",
   "nbconvert_exporter": "python",
   "pygments_lexer": "ipython3",
   "version": "3.5.5"
  }
 },
 "nbformat": 4,
 "nbformat_minor": 2
}
